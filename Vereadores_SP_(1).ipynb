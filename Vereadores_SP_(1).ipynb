{
  "nbformat": 4,
  "nbformat_minor": 0,
  "metadata": {
    "kernelspec": {
      "display_name": "Python 3",
      "language": "python",
      "name": "python3"
    },
    "language_info": {
      "codemirror_mode": {
        "name": "ipython",
        "version": 3
      },
      "file_extension": ".py",
      "mimetype": "text/x-python",
      "name": "python",
      "nbconvert_exporter": "python",
      "pygments_lexer": "ipython3",
      "version": "3.8.5"
    },
    "colab": {
      "name": "Vereadores_SP (1).ipynb",
      "provenance": [],
      "include_colab_link": true
    }
  },
  "cells": [
    {
      "cell_type": "markdown",
      "metadata": {
        "id": "view-in-github",
        "colab_type": "text"
      },
      "source": [
        "<a href=\"https://colab.research.google.com/github/mari-rufino-g/vereadores2020/blob/main/Vereadores_SP_(1).ipynb\" target=\"_parent\"><img src=\"https://colab.research.google.com/assets/colab-badge.svg\" alt=\"Open In Colab\"/></a>"
      ]
    },
    {
      "cell_type": "code",
      "metadata": {
        "id": "jmgsyjusKrlJ"
      },
      "source": [
        "import pandas as pd\n",
        "import matplotlib.pyplot\n",
        "import matplotlib.pyplot as plt\n",
        "import numpy as np\n",
        "import seaborn as sns"
      ],
      "execution_count": null,
      "outputs": []
    },
    {
      "cell_type": "code",
      "metadata": {
        "id": "HHS2mv1CKrlL",
        "colab": {
          "base_uri": "https://localhost:8080/",
          "height": 322
        },
        "outputId": "36e319a4-7664-4914-d8a6-ede4d3a2b0a5"
      },
      "source": [
        "cam = pd.read_csv('Vereadores_SP_2019.csv', sep = ';', encoding = 'ISO-8859-1')"
      ],
      "execution_count": null,
      "outputs": [
        {
          "output_type": "error",
          "ename": "FileNotFoundError",
          "evalue": "ignored",
          "traceback": [
            "\u001b[0;31m---------------------------------------------------------------------------\u001b[0m",
            "\u001b[0;31mFileNotFoundError\u001b[0m                         Traceback (most recent call last)",
            "\u001b[0;32m<ipython-input-2-71d7b6918361>\u001b[0m in \u001b[0;36m<module>\u001b[0;34m()\u001b[0m\n\u001b[0;32m----> 1\u001b[0;31m \u001b[0mcam\u001b[0m \u001b[0;34m=\u001b[0m \u001b[0mpd\u001b[0m\u001b[0;34m.\u001b[0m\u001b[0mread_csv\u001b[0m\u001b[0;34m(\u001b[0m\u001b[0;34m'Vereadores_SP_2019.csv'\u001b[0m\u001b[0;34m,\u001b[0m \u001b[0msep\u001b[0m \u001b[0;34m=\u001b[0m \u001b[0;34m';'\u001b[0m\u001b[0;34m,\u001b[0m \u001b[0mencoding\u001b[0m \u001b[0;34m=\u001b[0m \u001b[0;34m'ISO-8859-1'\u001b[0m\u001b[0;34m)\u001b[0m\u001b[0;34m\u001b[0m\u001b[0;34m\u001b[0m\u001b[0m\n\u001b[0m",
            "\u001b[0;32m/usr/local/lib/python3.7/dist-packages/pandas/io/parsers.py\u001b[0m in \u001b[0;36mread_csv\u001b[0;34m(filepath_or_buffer, sep, delimiter, header, names, index_col, usecols, squeeze, prefix, mangle_dupe_cols, dtype, engine, converters, true_values, false_values, skipinitialspace, skiprows, skipfooter, nrows, na_values, keep_default_na, na_filter, verbose, skip_blank_lines, parse_dates, infer_datetime_format, keep_date_col, date_parser, dayfirst, cache_dates, iterator, chunksize, compression, thousands, decimal, lineterminator, quotechar, quoting, doublequote, escapechar, comment, encoding, dialect, error_bad_lines, warn_bad_lines, delim_whitespace, low_memory, memory_map, float_precision)\u001b[0m\n\u001b[1;32m    686\u001b[0m     )\n\u001b[1;32m    687\u001b[0m \u001b[0;34m\u001b[0m\u001b[0m\n\u001b[0;32m--> 688\u001b[0;31m     \u001b[0;32mreturn\u001b[0m \u001b[0m_read\u001b[0m\u001b[0;34m(\u001b[0m\u001b[0mfilepath_or_buffer\u001b[0m\u001b[0;34m,\u001b[0m \u001b[0mkwds\u001b[0m\u001b[0;34m)\u001b[0m\u001b[0;34m\u001b[0m\u001b[0;34m\u001b[0m\u001b[0m\n\u001b[0m\u001b[1;32m    689\u001b[0m \u001b[0;34m\u001b[0m\u001b[0m\n\u001b[1;32m    690\u001b[0m \u001b[0;34m\u001b[0m\u001b[0m\n",
            "\u001b[0;32m/usr/local/lib/python3.7/dist-packages/pandas/io/parsers.py\u001b[0m in \u001b[0;36m_read\u001b[0;34m(filepath_or_buffer, kwds)\u001b[0m\n\u001b[1;32m    452\u001b[0m \u001b[0;34m\u001b[0m\u001b[0m\n\u001b[1;32m    453\u001b[0m     \u001b[0;31m# Create the parser.\u001b[0m\u001b[0;34m\u001b[0m\u001b[0;34m\u001b[0m\u001b[0;34m\u001b[0m\u001b[0m\n\u001b[0;32m--> 454\u001b[0;31m     \u001b[0mparser\u001b[0m \u001b[0;34m=\u001b[0m \u001b[0mTextFileReader\u001b[0m\u001b[0;34m(\u001b[0m\u001b[0mfp_or_buf\u001b[0m\u001b[0;34m,\u001b[0m \u001b[0;34m**\u001b[0m\u001b[0mkwds\u001b[0m\u001b[0;34m)\u001b[0m\u001b[0;34m\u001b[0m\u001b[0;34m\u001b[0m\u001b[0m\n\u001b[0m\u001b[1;32m    455\u001b[0m \u001b[0;34m\u001b[0m\u001b[0m\n\u001b[1;32m    456\u001b[0m     \u001b[0;32mif\u001b[0m \u001b[0mchunksize\u001b[0m \u001b[0;32mor\u001b[0m \u001b[0miterator\u001b[0m\u001b[0;34m:\u001b[0m\u001b[0;34m\u001b[0m\u001b[0;34m\u001b[0m\u001b[0m\n",
            "\u001b[0;32m/usr/local/lib/python3.7/dist-packages/pandas/io/parsers.py\u001b[0m in \u001b[0;36m__init__\u001b[0;34m(self, f, engine, **kwds)\u001b[0m\n\u001b[1;32m    946\u001b[0m             \u001b[0mself\u001b[0m\u001b[0;34m.\u001b[0m\u001b[0moptions\u001b[0m\u001b[0;34m[\u001b[0m\u001b[0;34m\"has_index_names\"\u001b[0m\u001b[0;34m]\u001b[0m \u001b[0;34m=\u001b[0m \u001b[0mkwds\u001b[0m\u001b[0;34m[\u001b[0m\u001b[0;34m\"has_index_names\"\u001b[0m\u001b[0;34m]\u001b[0m\u001b[0;34m\u001b[0m\u001b[0;34m\u001b[0m\u001b[0m\n\u001b[1;32m    947\u001b[0m \u001b[0;34m\u001b[0m\u001b[0m\n\u001b[0;32m--> 948\u001b[0;31m         \u001b[0mself\u001b[0m\u001b[0;34m.\u001b[0m\u001b[0m_make_engine\u001b[0m\u001b[0;34m(\u001b[0m\u001b[0mself\u001b[0m\u001b[0;34m.\u001b[0m\u001b[0mengine\u001b[0m\u001b[0;34m)\u001b[0m\u001b[0;34m\u001b[0m\u001b[0;34m\u001b[0m\u001b[0m\n\u001b[0m\u001b[1;32m    949\u001b[0m \u001b[0;34m\u001b[0m\u001b[0m\n\u001b[1;32m    950\u001b[0m     \u001b[0;32mdef\u001b[0m \u001b[0mclose\u001b[0m\u001b[0;34m(\u001b[0m\u001b[0mself\u001b[0m\u001b[0;34m)\u001b[0m\u001b[0;34m:\u001b[0m\u001b[0;34m\u001b[0m\u001b[0;34m\u001b[0m\u001b[0m\n",
            "\u001b[0;32m/usr/local/lib/python3.7/dist-packages/pandas/io/parsers.py\u001b[0m in \u001b[0;36m_make_engine\u001b[0;34m(self, engine)\u001b[0m\n\u001b[1;32m   1178\u001b[0m     \u001b[0;32mdef\u001b[0m \u001b[0m_make_engine\u001b[0m\u001b[0;34m(\u001b[0m\u001b[0mself\u001b[0m\u001b[0;34m,\u001b[0m \u001b[0mengine\u001b[0m\u001b[0;34m=\u001b[0m\u001b[0;34m\"c\"\u001b[0m\u001b[0;34m)\u001b[0m\u001b[0;34m:\u001b[0m\u001b[0;34m\u001b[0m\u001b[0;34m\u001b[0m\u001b[0m\n\u001b[1;32m   1179\u001b[0m         \u001b[0;32mif\u001b[0m \u001b[0mengine\u001b[0m \u001b[0;34m==\u001b[0m \u001b[0;34m\"c\"\u001b[0m\u001b[0;34m:\u001b[0m\u001b[0;34m\u001b[0m\u001b[0;34m\u001b[0m\u001b[0m\n\u001b[0;32m-> 1180\u001b[0;31m             \u001b[0mself\u001b[0m\u001b[0;34m.\u001b[0m\u001b[0m_engine\u001b[0m \u001b[0;34m=\u001b[0m \u001b[0mCParserWrapper\u001b[0m\u001b[0;34m(\u001b[0m\u001b[0mself\u001b[0m\u001b[0;34m.\u001b[0m\u001b[0mf\u001b[0m\u001b[0;34m,\u001b[0m \u001b[0;34m**\u001b[0m\u001b[0mself\u001b[0m\u001b[0;34m.\u001b[0m\u001b[0moptions\u001b[0m\u001b[0;34m)\u001b[0m\u001b[0;34m\u001b[0m\u001b[0;34m\u001b[0m\u001b[0m\n\u001b[0m\u001b[1;32m   1181\u001b[0m         \u001b[0;32melse\u001b[0m\u001b[0;34m:\u001b[0m\u001b[0;34m\u001b[0m\u001b[0;34m\u001b[0m\u001b[0m\n\u001b[1;32m   1182\u001b[0m             \u001b[0;32mif\u001b[0m \u001b[0mengine\u001b[0m \u001b[0;34m==\u001b[0m \u001b[0;34m\"python\"\u001b[0m\u001b[0;34m:\u001b[0m\u001b[0;34m\u001b[0m\u001b[0;34m\u001b[0m\u001b[0m\n",
            "\u001b[0;32m/usr/local/lib/python3.7/dist-packages/pandas/io/parsers.py\u001b[0m in \u001b[0;36m__init__\u001b[0;34m(self, src, **kwds)\u001b[0m\n\u001b[1;32m   1991\u001b[0m         \u001b[0;32mif\u001b[0m \u001b[0mkwds\u001b[0m\u001b[0;34m.\u001b[0m\u001b[0mget\u001b[0m\u001b[0;34m(\u001b[0m\u001b[0;34m\"compression\"\u001b[0m\u001b[0;34m)\u001b[0m \u001b[0;32mis\u001b[0m \u001b[0;32mNone\u001b[0m \u001b[0;32mand\u001b[0m \u001b[0mencoding\u001b[0m\u001b[0;34m:\u001b[0m\u001b[0;34m\u001b[0m\u001b[0;34m\u001b[0m\u001b[0m\n\u001b[1;32m   1992\u001b[0m             \u001b[0;32mif\u001b[0m \u001b[0misinstance\u001b[0m\u001b[0;34m(\u001b[0m\u001b[0msrc\u001b[0m\u001b[0;34m,\u001b[0m \u001b[0mstr\u001b[0m\u001b[0;34m)\u001b[0m\u001b[0;34m:\u001b[0m\u001b[0;34m\u001b[0m\u001b[0;34m\u001b[0m\u001b[0m\n\u001b[0;32m-> 1993\u001b[0;31m                 \u001b[0msrc\u001b[0m \u001b[0;34m=\u001b[0m \u001b[0mopen\u001b[0m\u001b[0;34m(\u001b[0m\u001b[0msrc\u001b[0m\u001b[0;34m,\u001b[0m \u001b[0;34m\"rb\"\u001b[0m\u001b[0;34m)\u001b[0m\u001b[0;34m\u001b[0m\u001b[0;34m\u001b[0m\u001b[0m\n\u001b[0m\u001b[1;32m   1994\u001b[0m                 \u001b[0mself\u001b[0m\u001b[0;34m.\u001b[0m\u001b[0mhandles\u001b[0m\u001b[0;34m.\u001b[0m\u001b[0mappend\u001b[0m\u001b[0;34m(\u001b[0m\u001b[0msrc\u001b[0m\u001b[0;34m)\u001b[0m\u001b[0;34m\u001b[0m\u001b[0;34m\u001b[0m\u001b[0m\n\u001b[1;32m   1995\u001b[0m \u001b[0;34m\u001b[0m\u001b[0m\n",
            "\u001b[0;31mFileNotFoundError\u001b[0m: [Errno 2] No such file or directory: 'Vereadores_SP_2019.csv'"
          ]
        }
      ]
    },
    {
      "cell_type": "code",
      "metadata": {
        "id": "ije7b6UdKrlM",
        "outputId": "201f06a5-1cb9-44de-b3dd-0e3aa1f01b11"
      },
      "source": [
        "cam.head()"
      ],
      "execution_count": null,
      "outputs": [
        {
          "output_type": "execute_result",
          "data": {
            "text/html": [
              "<div>\n",
              "<style scoped>\n",
              "    .dataframe tbody tr th:only-of-type {\n",
              "        vertical-align: middle;\n",
              "    }\n",
              "\n",
              "    .dataframe tbody tr th {\n",
              "        vertical-align: top;\n",
              "    }\n",
              "\n",
              "    .dataframe thead th {\n",
              "        text-align: right;\n",
              "    }\n",
              "</style>\n",
              "<table border=\"1\" class=\"dataframe\">\n",
              "  <thead>\n",
              "    <tr style=\"text-align: right;\">\n",
              "      <th></th>\n",
              "      <th>ordem</th>\n",
              "      <th>Nome</th>\n",
              "      <th>Partido</th>\n",
              "      <th>Situacao</th>\n",
              "      <th>Votos</th>\n",
              "      <th>Porcentagem de votos</th>\n",
              "      <th>Genero</th>\n",
              "      <th>Raca</th>\n",
              "    </tr>\n",
              "  </thead>\n",
              "  <tbody>\n",
              "    <tr>\n",
              "      <th>0</th>\n",
              "      <td>1</td>\n",
              "      <td>Eduardo Suplicy</td>\n",
              "      <td>PT</td>\n",
              "      <td>ELEITO</td>\n",
              "      <td>167552</td>\n",
              "      <td>3,28%</td>\n",
              "      <td>M</td>\n",
              "      <td>branco</td>\n",
              "    </tr>\n",
              "    <tr>\n",
              "      <th>1</th>\n",
              "      <td>2</td>\n",
              "      <td>Milton Leite</td>\n",
              "      <td>DEM</td>\n",
              "      <td>ELEITO</td>\n",
              "      <td>132716</td>\n",
              "      <td>2,59%</td>\n",
              "      <td>M</td>\n",
              "      <td>pardo</td>\n",
              "    </tr>\n",
              "    <tr>\n",
              "      <th>2</th>\n",
              "      <td>3</td>\n",
              "      <td>Delegado Palumbo</td>\n",
              "      <td>MDB</td>\n",
              "      <td>ELEITO</td>\n",
              "      <td>118395</td>\n",
              "      <td>2,31%</td>\n",
              "      <td>M</td>\n",
              "      <td>branco</td>\n",
              "    </tr>\n",
              "    <tr>\n",
              "      <th>3</th>\n",
              "      <td>4</td>\n",
              "      <td>Felipe Becari</td>\n",
              "      <td>PSD</td>\n",
              "      <td>ELEITO</td>\n",
              "      <td>98717</td>\n",
              "      <td>1,93%</td>\n",
              "      <td>M</td>\n",
              "      <td>branco</td>\n",
              "    </tr>\n",
              "    <tr>\n",
              "      <th>4</th>\n",
              "      <td>5</td>\n",
              "      <td>Fernando Holiday</td>\n",
              "      <td>PATRIOTA</td>\n",
              "      <td>ELEITO</td>\n",
              "      <td>67715</td>\n",
              "      <td>1,32%</td>\n",
              "      <td>M</td>\n",
              "      <td>preto</td>\n",
              "    </tr>\n",
              "  </tbody>\n",
              "</table>\n",
              "</div>"
            ],
            "text/plain": [
              "   ordem              Nome   Partido Situacao   Votos Porcentagem de votos  \\\n",
              "0      1   Eduardo Suplicy        PT   ELEITO  167552                3,28%   \n",
              "1      2      Milton Leite       DEM   ELEITO  132716                2,59%   \n",
              "2      3  Delegado Palumbo       MDB   ELEITO  118395                2,31%   \n",
              "3      4     Felipe Becari       PSD   ELEITO   98717                1,93%   \n",
              "4      5  Fernando Holiday  PATRIOTA   ELEITO   67715                1,32%   \n",
              "\n",
              "  Genero    Raca  \n",
              "0      M  branco  \n",
              "1      M   pardo  \n",
              "2      M  branco  \n",
              "3      M  branco  \n",
              "4      M   preto  "
            ]
          },
          "metadata": {
            "tags": []
          },
          "execution_count": 49
        }
      ]
    },
    {
      "cell_type": "code",
      "metadata": {
        "id": "FjRtgJgTKrlO",
        "outputId": "c2fb4971-e98f-4fe2-9467-cd5b9395942c"
      },
      "source": [
        "cam.info()"
      ],
      "execution_count": null,
      "outputs": [
        {
          "output_type": "stream",
          "text": [
            "<class 'pandas.core.frame.DataFrame'>\n",
            "RangeIndex: 55 entries, 0 to 54\n",
            "Data columns (total 8 columns):\n",
            " #   Column                Non-Null Count  Dtype \n",
            "---  ------                --------------  ----- \n",
            " 0   ordem                 55 non-null     int64 \n",
            " 1   Nome                  55 non-null     object\n",
            " 2   Partido               55 non-null     object\n",
            " 3   Situacao              55 non-null     object\n",
            " 4   Votos                 55 non-null     int64 \n",
            " 5   Porcentagem de votos  55 non-null     object\n",
            " 6   Genero                55 non-null     object\n",
            " 7   Raca                  55 non-null     object\n",
            "dtypes: int64(2), object(6)\n",
            "memory usage: 3.6+ KB\n"
          ],
          "name": "stdout"
        }
      ]
    },
    {
      "cell_type": "code",
      "metadata": {
        "id": "aq80SVISKrlP",
        "outputId": "76d6db85-1560-4de3-f70c-a627369d83a2"
      },
      "source": [
        "#Verificando a lista de partidos\n",
        "cam['Partido']"
      ],
      "execution_count": null,
      "outputs": [
        {
          "output_type": "execute_result",
          "data": {
            "text/plain": [
              "0               PT\n",
              "1              DEM\n",
              "2              MDB\n",
              "3              PSD\n",
              "4         PATRIOTA\n",
              "5             PSOL\n",
              "6             PSOL\n",
              "7               PV\n",
              "8               PL\n",
              "9     REPUBLICANOS\n",
              "10            PSDB\n",
              "11            PSDB\n",
              "12    REPUBLICANOS\n",
              "13            PSOL\n",
              "14    REPUBLICANOS\n",
              "15            PSDB\n",
              "16              PP\n",
              "17            PSDB\n",
              "18        PATRIOTA\n",
              "19             DEM\n",
              "20              PT\n",
              "21             PSD\n",
              "22              PT\n",
              "23            NOVO\n",
              "24             DEM\n",
              "25            PSDB\n",
              "26              PT\n",
              "27            PSOL\n",
              "28             DEM\n",
              "29              PT\n",
              "30            PSOL\n",
              "31        PATRIOTA\n",
              "32             MDB\n",
              "33            PSDB\n",
              "34              PT\n",
              "35              PT\n",
              "36              PT\n",
              "37            PSDB\n",
              "38              PL\n",
              "39             PSB\n",
              "40             DEM\n",
              "41             PSD\n",
              "42            PODE\n",
              "43             MDB\n",
              "44            PSOL\n",
              "45             PSC\n",
              "46             PSB\n",
              "47            PODE\n",
              "48            PSDB\n",
              "49            PODE\n",
              "50            NOVO\n",
              "51    REPUBLICANOS\n",
              "52             PTB\n",
              "53             DEM\n",
              "54             PSL\n",
              "Name: Partido, dtype: object"
            ]
          },
          "metadata": {
            "tags": []
          },
          "execution_count": 60
        }
      ]
    },
    {
      "cell_type": "markdown",
      "metadata": {
        "id": "k-1d3ZZNKrlP"
      },
      "source": [
        "### Verificando a quantidade de votos por gênero"
      ]
    },
    {
      "cell_type": "code",
      "metadata": {
        "id": "xFqo_2byKrlQ",
        "outputId": "e686bab1-ce98-47f5-8066-de0dab504300"
      },
      "source": [
        "cam.groupby('Genero').sum()['Votos']"
      ],
      "execution_count": null,
      "outputs": [
        {
          "output_type": "execute_result",
          "data": {
            "text/plain": [
              "Genero\n",
              "F     341967\n",
              "M    1688626\n",
              "Name: Votos, dtype: int64"
            ]
          },
          "metadata": {
            "tags": []
          },
          "execution_count": 42
        }
      ]
    },
    {
      "cell_type": "code",
      "metadata": {
        "id": "1MlG30gsKrlR",
        "outputId": "328681da-28b0-49d4-b98f-05aedd6fe7b7"
      },
      "source": [
        "sns.barplot(x='Genero',y='Votos',data=cam,estimator=np.std)"
      ],
      "execution_count": null,
      "outputs": [
        {
          "output_type": "execute_result",
          "data": {
            "text/plain": [
              "<AxesSubplot:xlabel='Genero', ylabel='Votos'>"
            ]
          },
          "metadata": {
            "tags": []
          },
          "execution_count": 22
        },
        {
          "output_type": "display_data",
          "data": {
            "image/png": "[encoded data removed]",
            "text/plain": [
              "<Figure size 432x288 with 1 Axes>"
            ]
          },
          "metadata": {
            "tags": [],
            "needs_background": "light"
          }
        }
      ]
    },
    {
      "cell_type": "code",
      "metadata": {
        "id": "ubIGeh34KrlS",
        "outputId": "d712b69f-7fd7-4730-e373-4f20d3f96bd5"
      },
      "source": [
        "labels = 'Votos em homens', 'Votos em mulheres'\n",
        "sizes = [1688626, 341967]\n",
        "fig1, ax1 = plt.subplots ()\n",
        "ax1.pie(sizes,labels=labels, autopct='%1.1f%%', shadow=True, startangle=90)\n",
        "ax1.axis('equal')\n",
        "plt.show()"
      ],
      "execution_count": null,
      "outputs": [
        {
          "output_type": "display_data",
          "data": {
            "image/png": "[encoded data removed]",
            "text/plain": [
              "<Figure size 432x288 with 1 Axes>"
            ]
          },
          "metadata": {
            "tags": []
          }
        }
      ]
    },
    {
      "cell_type": "markdown",
      "metadata": {
        "id": "7O_P3XnrKrlS"
      },
      "source": [
        "### Verificando a proporção de vereadores e vereadoras"
      ]
    },
    {
      "cell_type": "code",
      "metadata": {
        "id": "NfHm3BxOKrlT",
        "outputId": "cdc88fd2-dba7-4782-ec88-6bcfbad3678d"
      },
      "source": [
        "cam['Genero'].value_counts()"
      ],
      "execution_count": null,
      "outputs": [
        {
          "output_type": "execute_result",
          "data": {
            "text/plain": [
              "M    44\n",
              "F    11\n",
              "Name: Genero, dtype: int64"
            ]
          },
          "metadata": {
            "tags": []
          },
          "execution_count": 51
        }
      ]
    },
    {
      "cell_type": "code",
      "metadata": {
        "id": "4EmcboaKKrlU",
        "outputId": "6ff85658-8639-4342-f323-e6f5c61a37b0"
      },
      "source": [
        "labels = 'Homens', 'Mulheres'\n",
        "sizes = [44, 11]\n",
        "fig1, ax1 = plt.subplots ()\n",
        "ax1.pie(sizes,labels=labels, autopct='%1.1f%%', shadow=True, startangle=90)\n",
        "ax1.axis('equal')\n",
        "plt.show()"
      ],
      "execution_count": null,
      "outputs": [
        {
          "output_type": "display_data",
          "data": {
            "image/png": "[encoded data removed]",
            "text/plain": [
              "<Figure size 432x288 with 1 Axes>"
            ]
          },
          "metadata": {
            "tags": []
          }
        }
      ]
    },
    {
      "cell_type": "markdown",
      "metadata": {
        "id": "vhYno5uPKrlU"
      },
      "source": [
        "### Verificando o perfil racial dos eleitos"
      ]
    },
    {
      "cell_type": "code",
      "metadata": {
        "id": "w8knU5RlKrlV",
        "outputId": "2d32454f-2cdf-487c-fd6f-e87d26d4df60"
      },
      "source": [
        "cam['Raca'].value_counts()"
      ],
      "execution_count": null,
      "outputs": [
        {
          "output_type": "execute_result",
          "data": {
            "text/plain": [
              "branco      42\n",
              "preto        7\n",
              "pardo        4\n",
              "amarelo      1\n",
              "indgena     1\n",
              "Name: Raca, dtype: int64"
            ]
          },
          "metadata": {
            "tags": []
          },
          "execution_count": 15
        }
      ]
    },
    {
      "cell_type": "code",
      "metadata": {
        "id": "w1PzL5vUKrlX",
        "outputId": "22d05392-3b99-4275-ace6-2eb9abaa445c"
      },
      "source": [
        "labels = 'Branco', 'Preto', 'Pardo', 'Amarelo', 'Indígena'\n",
        "sizes = [42, 7, 4, 1, 1]\n",
        "fig1, ax1 = plt.subplots ()\n",
        "ax1.pie(sizes,labels=labels, autopct='%1.1f%%', shadow=True, startangle=10)\n",
        "ax1.axis('equal')\n",
        "plt.show()"
      ],
      "execution_count": null,
      "outputs": [
        {
          "output_type": "display_data",
          "data": {
            "image/png": "[encoded data removed]",
            "text/plain": [
              "<Figure size 432x288 with 1 Axes>"
            ]
          },
          "metadata": {
            "tags": []
          }
        }
      ]
    },
    {
      "cell_type": "code",
      "metadata": {
        "id": "sBXvimyyKrlY",
        "outputId": "dfe76d1c-d4d8-476a-a370-3db053ae114f"
      },
      "source": [
        "cam['Raca'].hist()"
      ],
      "execution_count": null,
      "outputs": [
        {
          "output_type": "execute_result",
          "data": {
            "text/plain": [
              "<AxesSubplot:>"
            ]
          },
          "metadata": {
            "tags": []
          },
          "execution_count": 37
        },
        {
          "output_type": "display_data",
          "data": {
            "image/png": "[encoded data removed]",
            "text/plain": [
              "<Figure size 432x288 with 1 Axes>"
            ]
          },
          "metadata": {
            "tags": [],
            "needs_background": "light"
          }
        }
      ]
    },
    {
      "cell_type": "markdown",
      "metadata": {
        "id": "zjxDwyXXKrlZ"
      },
      "source": [
        "### Verificando a quantidade de votos por raça/cor"
      ]
    },
    {
      "cell_type": "code",
      "metadata": {
        "id": "zf0cuUHfKrlb",
        "outputId": "e87ca1ac-9690-45a0-fe72-b6d2eeddc8da"
      },
      "source": [
        "cam.groupby('Raca').sum()['Votos']"
      ],
      "execution_count": null,
      "outputs": [
        {
          "output_type": "execute_result",
          "data": {
            "text/plain": [
              "Raca\n",
              "amarelo       25316\n",
              "branco      1500656\n",
              "indÕgena      28402\n",
              "pardo        213080\n",
              "preto        263139\n",
              "Name: Votos, dtype: int64"
            ]
          },
          "metadata": {
            "tags": []
          },
          "execution_count": 54
        }
      ]
    },
    {
      "cell_type": "markdown",
      "metadata": {
        "id": "t2Z2kJZRKrlb"
      },
      "source": [
        "### Adicionando uma nova coluna no df"
      ]
    },
    {
      "cell_type": "code",
      "metadata": {
        "id": "WepM2_Y_Krlc"
      },
      "source": [
        "DicionarioPartidos = {\n",
        "'PT': 'Esquerda',\n",
        "'DEM': 'Direita',\n",
        "'MDB': 'Centro',\n",
        "'PSD': 'Centro',\n",
        "'PATRIOTA': 'Direita',\n",
        "'PSOL': 'Esquerda',\n",
        "'PV': 'Esquerda',\n",
        "'PL': 'Direita',\n",
        "'REPUBLICANOS': 'Direita',\n",
        "'PSDB': 'Centro',\n",
        "'PP': 'Direita',\n",
        "'NOVO': 'Direita',\n",
        "'PSB': 'Esquerda',\n",
        "'PODE': 'Centro',\n",
        "'PSC': 'Direita',\n",
        "'PTB': 'Direita',\n",
        "'PSL': 'Direita'} "
      ],
      "execution_count": null,
      "outputs": []
    },
    {
      "cell_type": "code",
      "metadata": {
        "id": "bQoqIcifKrlc"
      },
      "source": [
        "cam['Posicionamento Politico']  = [DicionarioPartidos[resp] for resp in cam.Partido]"
      ],
      "execution_count": null,
      "outputs": []
    },
    {
      "cell_type": "code",
      "metadata": {
        "id": "-VIn4o5oKrld",
        "outputId": "749990df-1855-4a8b-97c3-931864508700"
      },
      "source": [
        "cam.head()"
      ],
      "execution_count": null,
      "outputs": [
        {
          "output_type": "execute_result",
          "data": {
            "text/html": [
              "<div>\n",
              "<style scoped>\n",
              "    .dataframe tbody tr th:only-of-type {\n",
              "        vertical-align: middle;\n",
              "    }\n",
              "\n",
              "    .dataframe tbody tr th {\n",
              "        vertical-align: top;\n",
              "    }\n",
              "\n",
              "    .dataframe thead th {\n",
              "        text-align: right;\n",
              "    }\n",
              "</style>\n",
              "<table border=\"1\" class=\"dataframe\">\n",
              "  <thead>\n",
              "    <tr style=\"text-align: right;\">\n",
              "      <th></th>\n",
              "      <th>ordem</th>\n",
              "      <th>Nome</th>\n",
              "      <th>Partido</th>\n",
              "      <th>Situacao</th>\n",
              "      <th>Votos</th>\n",
              "      <th>Porcentagem de votos</th>\n",
              "      <th>Genero</th>\n",
              "      <th>Raca</th>\n",
              "      <th>Posicionamento Politico</th>\n",
              "    </tr>\n",
              "  </thead>\n",
              "  <tbody>\n",
              "    <tr>\n",
              "      <th>0</th>\n",
              "      <td>1</td>\n",
              "      <td>Eduardo Suplicy</td>\n",
              "      <td>PT</td>\n",
              "      <td>ELEITO</td>\n",
              "      <td>167552</td>\n",
              "      <td>3,28%</td>\n",
              "      <td>M</td>\n",
              "      <td>branco</td>\n",
              "      <td>Esquerda</td>\n",
              "    </tr>\n",
              "    <tr>\n",
              "      <th>1</th>\n",
              "      <td>2</td>\n",
              "      <td>Milton Leite</td>\n",
              "      <td>DEM</td>\n",
              "      <td>ELEITO</td>\n",
              "      <td>132716</td>\n",
              "      <td>2,59%</td>\n",
              "      <td>M</td>\n",
              "      <td>pardo</td>\n",
              "      <td>Direita</td>\n",
              "    </tr>\n",
              "    <tr>\n",
              "      <th>2</th>\n",
              "      <td>3</td>\n",
              "      <td>Delegado Palumbo</td>\n",
              "      <td>MDB</td>\n",
              "      <td>ELEITO</td>\n",
              "      <td>118395</td>\n",
              "      <td>2,31%</td>\n",
              "      <td>M</td>\n",
              "      <td>branco</td>\n",
              "      <td>Centro</td>\n",
              "    </tr>\n",
              "    <tr>\n",
              "      <th>3</th>\n",
              "      <td>4</td>\n",
              "      <td>Felipe Becari</td>\n",
              "      <td>PSD</td>\n",
              "      <td>ELEITO</td>\n",
              "      <td>98717</td>\n",
              "      <td>1,93%</td>\n",
              "      <td>M</td>\n",
              "      <td>branco</td>\n",
              "      <td>Centro</td>\n",
              "    </tr>\n",
              "    <tr>\n",
              "      <th>4</th>\n",
              "      <td>5</td>\n",
              "      <td>Fernando Holiday</td>\n",
              "      <td>PATRIOTA</td>\n",
              "      <td>ELEITO</td>\n",
              "      <td>67715</td>\n",
              "      <td>1,32%</td>\n",
              "      <td>M</td>\n",
              "      <td>preto</td>\n",
              "      <td>Direita</td>\n",
              "    </tr>\n",
              "  </tbody>\n",
              "</table>\n",
              "</div>"
            ],
            "text/plain": [
              "   ordem              Nome   Partido Situacao   Votos Porcentagem de votos  \\\n",
              "0      1   Eduardo Suplicy        PT   ELEITO  167552                3,28%   \n",
              "1      2      Milton Leite       DEM   ELEITO  132716                2,59%   \n",
              "2      3  Delegado Palumbo       MDB   ELEITO  118395                2,31%   \n",
              "3      4     Felipe Becari       PSD   ELEITO   98717                1,93%   \n",
              "4      5  Fernando Holiday  PATRIOTA   ELEITO   67715                1,32%   \n",
              "\n",
              "  Genero    Raca Posicionamento Politico  \n",
              "0      M  branco                Esquerda  \n",
              "1      M   pardo                 Direita  \n",
              "2      M  branco                  Centro  \n",
              "3      M  branco                  Centro  \n",
              "4      M   preto                 Direita  "
            ]
          },
          "metadata": {
            "tags": []
          },
          "execution_count": 12
        }
      ]
    },
    {
      "cell_type": "markdown",
      "metadata": {
        "id": "vKNDobIDKrlf"
      },
      "source": [
        "### Verificando a quantidade de eleitos por ideologia do partido"
      ]
    },
    {
      "cell_type": "code",
      "metadata": {
        "id": "wqxSm_RmKrlg",
        "outputId": "1995b1a3-8da3-4022-9391-3b086232b157"
      },
      "source": [
        "cam['Posicionamento Politico'].value_counts()"
      ],
      "execution_count": null,
      "outputs": [
        {
          "output_type": "execute_result",
          "data": {
            "text/plain": [
              "Direita     21\n",
              "Esquerda    17\n",
              "Centro      17\n",
              "Name: Posicionamento Politico, dtype: int64"
            ]
          },
          "metadata": {
            "tags": []
          },
          "execution_count": 73
        }
      ]
    },
    {
      "cell_type": "markdown",
      "metadata": {
        "id": "RI3Hj2eDKrlg"
      },
      "source": [
        "### Verificando a quantidade de eleitos de acordo com a declaração racial por ideologia do partido"
      ]
    },
    {
      "cell_type": "markdown",
      "metadata": {
        "id": "IUTo-JJJKrlj"
      },
      "source": [
        "#### Raça/Cor x Partidos de direita"
      ]
    },
    {
      "cell_type": "code",
      "metadata": {
        "id": "FO8QGYABKrlj",
        "outputId": "33bc0a22-ea87-46e5-8515-71ad6573ff46"
      },
      "source": [
        "cam[cam['Posicionamento Politico'] == 'Direita'].groupby('Raca').count()"
      ],
      "execution_count": null,
      "outputs": [
        {
          "output_type": "execute_result",
          "data": {
            "text/html": [
              "<div>\n",
              "<style scoped>\n",
              "    .dataframe tbody tr th:only-of-type {\n",
              "        vertical-align: middle;\n",
              "    }\n",
              "\n",
              "    .dataframe tbody tr th {\n",
              "        vertical-align: top;\n",
              "    }\n",
              "\n",
              "    .dataframe thead th {\n",
              "        text-align: right;\n",
              "    }\n",
              "</style>\n",
              "<table border=\"1\" class=\"dataframe\">\n",
              "  <thead>\n",
              "    <tr style=\"text-align: right;\">\n",
              "      <th></th>\n",
              "      <th>Posicionamento Politico</th>\n",
              "    </tr>\n",
              "    <tr>\n",
              "      <th>Raca</th>\n",
              "      <th></th>\n",
              "    </tr>\n",
              "  </thead>\n",
              "  <tbody>\n",
              "    <tr>\n",
              "      <th>branco</th>\n",
              "      <td>16</td>\n",
              "    </tr>\n",
              "    <tr>\n",
              "      <th>pardo</th>\n",
              "      <td>2</td>\n",
              "    </tr>\n",
              "    <tr>\n",
              "      <th>preto</th>\n",
              "      <td>3</td>\n",
              "    </tr>\n",
              "  </tbody>\n",
              "</table>\n",
              "</div>"
            ],
            "text/plain": [
              "        Posicionamento Politico\n",
              "Raca                           \n",
              "branco                       16\n",
              "pardo                         2\n",
              "preto                         3"
            ]
          },
          "metadata": {
            "tags": []
          },
          "execution_count": 91
        }
      ]
    },
    {
      "cell_type": "markdown",
      "metadata": {
        "id": "bM-qFLojKrlk"
      },
      "source": [
        "#### Raça/Cor x Partidos de esquerda"
      ]
    },
    {
      "cell_type": "code",
      "metadata": {
        "id": "vtD6mu5MKrlk",
        "outputId": "b9d950cd-88a8-4c51-bc9a-c8f1e20502a9"
      },
      "source": [
        "cam[cam['Posicionamento Politico'] == 'Esquerda'].groupby('Raca').count()"
      ],
      "execution_count": null,
      "outputs": [
        {
          "output_type": "execute_result",
          "data": {
            "text/html": [
              "<div>\n",
              "<style scoped>\n",
              "    .dataframe tbody tr th:only-of-type {\n",
              "        vertical-align: middle;\n",
              "    }\n",
              "\n",
              "    .dataframe tbody tr th {\n",
              "        vertical-align: top;\n",
              "    }\n",
              "\n",
              "    .dataframe thead th {\n",
              "        text-align: right;\n",
              "    }\n",
              "</style>\n",
              "<table border=\"1\" class=\"dataframe\">\n",
              "  <thead>\n",
              "    <tr style=\"text-align: right;\">\n",
              "      <th></th>\n",
              "      <th>Posicionamento Politico</th>\n",
              "    </tr>\n",
              "    <tr>\n",
              "      <th>Raca</th>\n",
              "      <th></th>\n",
              "    </tr>\n",
              "  </thead>\n",
              "  <tbody>\n",
              "    <tr>\n",
              "      <th>branco</th>\n",
              "      <td>10</td>\n",
              "    </tr>\n",
              "    <tr>\n",
              "      <th>indÕgena</th>\n",
              "      <td>1</td>\n",
              "    </tr>\n",
              "    <tr>\n",
              "      <th>pardo</th>\n",
              "      <td>2</td>\n",
              "    </tr>\n",
              "    <tr>\n",
              "      <th>preto</th>\n",
              "      <td>4</td>\n",
              "    </tr>\n",
              "  </tbody>\n",
              "</table>\n",
              "</div>"
            ],
            "text/plain": [
              "          Posicionamento Politico\n",
              "Raca                             \n",
              "branco                         10\n",
              "indÕgena                        1\n",
              "pardo                           2\n",
              "preto                           4"
            ]
          },
          "metadata": {
            "tags": []
          },
          "execution_count": 92
        }
      ]
    },
    {
      "cell_type": "markdown",
      "metadata": {
        "id": "_jzUqnYVKrll"
      },
      "source": [
        "#### Raça/Cor x Partidos de centro"
      ]
    },
    {
      "cell_type": "code",
      "metadata": {
        "id": "xOUAIq_kKrlm",
        "outputId": "e3df6c6b-85ba-44ce-db9b-5cf6eab04bec"
      },
      "source": [
        "cam[cam['Posicionamento Politico'] == 'Centro'].groupby('Raca').count()"
      ],
      "execution_count": null,
      "outputs": [
        {
          "output_type": "execute_result",
          "data": {
            "text/html": [
              "<div>\n",
              "<style scoped>\n",
              "    .dataframe tbody tr th:only-of-type {\n",
              "        vertical-align: middle;\n",
              "    }\n",
              "\n",
              "    .dataframe tbody tr th {\n",
              "        vertical-align: top;\n",
              "    }\n",
              "\n",
              "    .dataframe thead th {\n",
              "        text-align: right;\n",
              "    }\n",
              "</style>\n",
              "<table border=\"1\" class=\"dataframe\">\n",
              "  <thead>\n",
              "    <tr style=\"text-align: right;\">\n",
              "      <th></th>\n",
              "      <th>Posicionamento Politico</th>\n",
              "    </tr>\n",
              "    <tr>\n",
              "      <th>Raca</th>\n",
              "      <th></th>\n",
              "    </tr>\n",
              "  </thead>\n",
              "  <tbody>\n",
              "    <tr>\n",
              "      <th>amarelo</th>\n",
              "      <td>1</td>\n",
              "    </tr>\n",
              "    <tr>\n",
              "      <th>branco</th>\n",
              "      <td>16</td>\n",
              "    </tr>\n",
              "  </tbody>\n",
              "</table>\n",
              "</div>"
            ],
            "text/plain": [
              "         Posicionamento Politico\n",
              "Raca                            \n",
              "amarelo                        1\n",
              "branco                        16"
            ]
          },
          "metadata": {
            "tags": []
          },
          "execution_count": 93
        }
      ]
    },
    {
      "cell_type": "code",
      "metadata": {
        "id": "nvzS2AXwKrlm",
        "outputId": "aec657b0-3049-4bcb-bc76-aebbd4981a4f"
      },
      "source": [
        "branco  = np.array((76.2, 94.1, 58.8))\n",
        "preto = np.array((14.3, 0, 23.6))\n",
        "pardo  = np.array((9.5, 0, 11.7))\n",
        "amarelo  = np.array((0, 5.9, 0))\n",
        "indigena = np.array((0, 0, 5.9))\n",
        "\n",
        "cor = ['Branco','Preto','Pardo', 'Amarelo', 'Indigena']\n",
        "\n",
        "ideologia = ['Direita','Centro','Esquerda']\n",
        "\n",
        "\n",
        "# Aumentando o gráfico\n",
        "plt.figure(figsize=(10,5))\n",
        "\n",
        "# Criando as barras\n",
        "plt.bar(ideologia, branco, color = 'gainsboro')\n",
        "plt.bar(ideologia, preto, color = 'black', bottom = branco)\n",
        "plt.bar(ideologia, pardo, color = 'peru', bottom = branco + preto)\n",
        "plt.bar(ideologia, amarelo, color = 'khaki', bottom = branco + preto+ pardo)\n",
        "plt.bar(ideologia, indigena, color = 'red', bottom = branco + preto+ pardo + amarelo )\n",
        "\n",
        "# Adiciando legendas as barras\n",
        "plt.xlabel('Ideologia do partido')\n",
        "plt.ylabel('% de vereadores')\n",
        "plt.title('Proporção de vereadores por cor de acordo com a ideologia do partido')\n",
        "plt.legend(('Branco', 'Preto', 'Pardo', 'Amarelo', 'Indígena'))\n",
        "\n",
        "plt.show()"
      ],
      "execution_count": null,
      "outputs": [
        {
          "output_type": "display_data",
          "data": {
            "image/png": "[encoded data removed]",
            "text/plain": [
              "<Figure size 720x360 with 1 Axes>"
            ]
          },
          "metadata": {
            "tags": [],
            "needs_background": "light"
          }
        }
      ]
    },
    {
      "cell_type": "markdown",
      "metadata": {
        "id": "00agHfS1Krln"
      },
      "source": [
        "### Verificando a quantidade de eleitos de acordo com o gênero por ideologia do partido"
      ]
    },
    {
      "cell_type": "markdown",
      "metadata": {
        "id": "v7Km_KPGKrlp"
      },
      "source": [
        "#### Gênero x Partidos de direita"
      ]
    },
    {
      "cell_type": "code",
      "metadata": {
        "id": "-BhR0VSHKrlp",
        "outputId": "b195f248-621e-4f9e-d308-b0ee5da11839"
      },
      "source": [
        "cam[cam['Posicionamento Politico'] == 'Direita'].groupby('Genero').count()"
      ],
      "execution_count": null,
      "outputs": [
        {
          "output_type": "execute_result",
          "data": {
            "text/html": [
              "<div>\n",
              "<style scoped>\n",
              "    .dataframe tbody tr th:only-of-type {\n",
              "        vertical-align: middle;\n",
              "    }\n",
              "\n",
              "    .dataframe tbody tr th {\n",
              "        vertical-align: top;\n",
              "    }\n",
              "\n",
              "    .dataframe thead th {\n",
              "        text-align: right;\n",
              "    }\n",
              "</style>\n",
              "<table border=\"1\" class=\"dataframe\">\n",
              "  <thead>\n",
              "    <tr style=\"text-align: right;\">\n",
              "      <th></th>\n",
              "      <th>ordem</th>\n",
              "      <th>Nome</th>\n",
              "      <th>Partido</th>\n",
              "      <th>Situacao</th>\n",
              "      <th>Votos</th>\n",
              "      <th>Porcentagem de votos</th>\n",
              "      <th>Raca</th>\n",
              "      <th>Posicionamento Politico</th>\n",
              "    </tr>\n",
              "    <tr>\n",
              "      <th>Genero</th>\n",
              "      <th></th>\n",
              "      <th></th>\n",
              "      <th></th>\n",
              "      <th></th>\n",
              "      <th></th>\n",
              "      <th></th>\n",
              "      <th></th>\n",
              "      <th></th>\n",
              "    </tr>\n",
              "  </thead>\n",
              "  <tbody>\n",
              "    <tr>\n",
              "      <th>F</th>\n",
              "      <td>4</td>\n",
              "      <td>4</td>\n",
              "      <td>4</td>\n",
              "      <td>4</td>\n",
              "      <td>4</td>\n",
              "      <td>4</td>\n",
              "      <td>4</td>\n",
              "      <td>4</td>\n",
              "    </tr>\n",
              "    <tr>\n",
              "      <th>M</th>\n",
              "      <td>17</td>\n",
              "      <td>17</td>\n",
              "      <td>17</td>\n",
              "      <td>17</td>\n",
              "      <td>17</td>\n",
              "      <td>17</td>\n",
              "      <td>17</td>\n",
              "      <td>17</td>\n",
              "    </tr>\n",
              "  </tbody>\n",
              "</table>\n",
              "</div>"
            ],
            "text/plain": [
              "        ordem  Nome  Partido  Situacao  Votos  Porcentagem de votos  Raca  \\\n",
              "Genero                                                                      \n",
              "F           4     4        4         4      4                     4     4   \n",
              "M          17    17       17        17     17                    17    17   \n",
              "\n",
              "        Posicionamento Politico  \n",
              "Genero                           \n",
              "F                             4  \n",
              "M                            17  "
            ]
          },
          "metadata": {
            "tags": []
          },
          "execution_count": 55
        }
      ]
    },
    {
      "cell_type": "markdown",
      "metadata": {
        "id": "wGxSXp_TKrlp"
      },
      "source": [
        "#### Gênero x Partidos de esquerda"
      ]
    },
    {
      "cell_type": "code",
      "metadata": {
        "id": "yfac-iq1Krlq",
        "outputId": "49d38aab-aafb-4631-fe20-ef18592bb213"
      },
      "source": [
        "cam[cam['Posicionamento Politico'] == 'Esquerda'].groupby('Genero').count()"
      ],
      "execution_count": null,
      "outputs": [
        {
          "output_type": "execute_result",
          "data": {
            "text/html": [
              "<div>\n",
              "<style scoped>\n",
              "    .dataframe tbody tr th:only-of-type {\n",
              "        vertical-align: middle;\n",
              "    }\n",
              "\n",
              "    .dataframe tbody tr th {\n",
              "        vertical-align: top;\n",
              "    }\n",
              "\n",
              "    .dataframe thead th {\n",
              "        text-align: right;\n",
              "    }\n",
              "</style>\n",
              "<table border=\"1\" class=\"dataframe\">\n",
              "  <thead>\n",
              "    <tr style=\"text-align: right;\">\n",
              "      <th></th>\n",
              "      <th>ordem</th>\n",
              "      <th>Nome</th>\n",
              "      <th>Partido</th>\n",
              "      <th>Situacao</th>\n",
              "      <th>Votos</th>\n",
              "      <th>Porcentagem de votos</th>\n",
              "      <th>Raca</th>\n",
              "      <th>Posicionamento Politico</th>\n",
              "    </tr>\n",
              "    <tr>\n",
              "      <th>Genero</th>\n",
              "      <th></th>\n",
              "      <th></th>\n",
              "      <th></th>\n",
              "      <th></th>\n",
              "      <th></th>\n",
              "      <th></th>\n",
              "      <th></th>\n",
              "      <th></th>\n",
              "    </tr>\n",
              "  </thead>\n",
              "  <tbody>\n",
              "    <tr>\n",
              "      <th>F</th>\n",
              "      <td>5</td>\n",
              "      <td>5</td>\n",
              "      <td>5</td>\n",
              "      <td>5</td>\n",
              "      <td>5</td>\n",
              "      <td>5</td>\n",
              "      <td>5</td>\n",
              "      <td>5</td>\n",
              "    </tr>\n",
              "    <tr>\n",
              "      <th>M</th>\n",
              "      <td>12</td>\n",
              "      <td>12</td>\n",
              "      <td>12</td>\n",
              "      <td>12</td>\n",
              "      <td>12</td>\n",
              "      <td>12</td>\n",
              "      <td>12</td>\n",
              "      <td>12</td>\n",
              "    </tr>\n",
              "  </tbody>\n",
              "</table>\n",
              "</div>"
            ],
            "text/plain": [
              "        ordem  Nome  Partido  Situacao  Votos  Porcentagem de votos  Raca  \\\n",
              "Genero                                                                      \n",
              "F           5     5        5         5      5                     5     5   \n",
              "M          12    12       12        12     12                    12    12   \n",
              "\n",
              "        Posicionamento Politico  \n",
              "Genero                           \n",
              "F                             5  \n",
              "M                            12  "
            ]
          },
          "metadata": {
            "tags": []
          },
          "execution_count": 56
        }
      ]
    },
    {
      "cell_type": "markdown",
      "metadata": {
        "id": "Hxl9CaxBKrlq"
      },
      "source": [
        "#### Gênero x Partidos de centro"
      ]
    },
    {
      "cell_type": "code",
      "metadata": {
        "id": "8yP7hUZ0Krlr",
        "outputId": "a9fea708-1323-4791-8e91-485056c42dd0"
      },
      "source": [
        "cam[cam['Posicionamento Politico'] == 'Centro'].groupby('Genero').count()"
      ],
      "execution_count": null,
      "outputs": [
        {
          "output_type": "execute_result",
          "data": {
            "text/html": [
              "<div>\n",
              "<style scoped>\n",
              "    .dataframe tbody tr th:only-of-type {\n",
              "        vertical-align: middle;\n",
              "    }\n",
              "\n",
              "    .dataframe tbody tr th {\n",
              "        vertical-align: top;\n",
              "    }\n",
              "\n",
              "    .dataframe thead th {\n",
              "        text-align: right;\n",
              "    }\n",
              "</style>\n",
              "<table border=\"1\" class=\"dataframe\">\n",
              "  <thead>\n",
              "    <tr style=\"text-align: right;\">\n",
              "      <th></th>\n",
              "      <th>ordem</th>\n",
              "      <th>Nome</th>\n",
              "      <th>Partido</th>\n",
              "      <th>Situacao</th>\n",
              "      <th>Votos</th>\n",
              "      <th>Porcentagem de votos</th>\n",
              "      <th>Raca</th>\n",
              "      <th>Posicionamento Politico</th>\n",
              "    </tr>\n",
              "    <tr>\n",
              "      <th>Genero</th>\n",
              "      <th></th>\n",
              "      <th></th>\n",
              "      <th></th>\n",
              "      <th></th>\n",
              "      <th></th>\n",
              "      <th></th>\n",
              "      <th></th>\n",
              "      <th></th>\n",
              "    </tr>\n",
              "  </thead>\n",
              "  <tbody>\n",
              "    <tr>\n",
              "      <th>F</th>\n",
              "      <td>2</td>\n",
              "      <td>2</td>\n",
              "      <td>2</td>\n",
              "      <td>2</td>\n",
              "      <td>2</td>\n",
              "      <td>2</td>\n",
              "      <td>2</td>\n",
              "      <td>2</td>\n",
              "    </tr>\n",
              "    <tr>\n",
              "      <th>M</th>\n",
              "      <td>15</td>\n",
              "      <td>15</td>\n",
              "      <td>15</td>\n",
              "      <td>15</td>\n",
              "      <td>15</td>\n",
              "      <td>15</td>\n",
              "      <td>15</td>\n",
              "      <td>15</td>\n",
              "    </tr>\n",
              "  </tbody>\n",
              "</table>\n",
              "</div>"
            ],
            "text/plain": [
              "        ordem  Nome  Partido  Situacao  Votos  Porcentagem de votos  Raca  \\\n",
              "Genero                                                                      \n",
              "F           2     2        2         2      2                     2     2   \n",
              "M          15    15       15        15     15                    15    15   \n",
              "\n",
              "        Posicionamento Politico  \n",
              "Genero                           \n",
              "F                             2  \n",
              "M                            15  "
            ]
          },
          "metadata": {
            "tags": []
          },
          "execution_count": 57
        }
      ]
    },
    {
      "cell_type": "code",
      "metadata": {
        "id": "x-kMFn_BKrlr",
        "outputId": "fb50ccf2-2f1b-4dc5-9eae-70822a3cc183"
      },
      "source": [
        "mulheres  = np.array((19.1, 11.8, 29.4))\n",
        "homens = np.array((80.9, 88.2, 70.6))\n",
        "\n",
        "\n",
        "genero = ['Mulheres','Homens']\n",
        "\n",
        "ideologia = ['Direita','Centro','Esquerda']\n",
        "\n",
        "\n",
        "# Aumentando o gráfico\n",
        "plt.figure(figsize=(10,5))\n",
        "\n",
        "# Criando as barras\n",
        "plt.bar(ideologia, mulheres, color = 'orange')\n",
        "plt.bar(ideologia, homens, color = 'teal', bottom = mulheres)\n",
        "\n",
        "# Adiciando legendas as barras\n",
        "plt.xlabel('Ideologia do partido')\n",
        "plt.ylabel('% vereadores')\n",
        "plt.title('Proporção de vereadores por gênero de acordo com a ideologia do partido')\n",
        "plt.legend(('Mulheres', 'Homens'))\n",
        "\n",
        "plt.show()"
      ],
      "execution_count": null,
      "outputs": [
        {
          "output_type": "display_data",
          "data": {
            "image/png": "[encoded data removed]",
            "text/plain": [
              "<Figure size 720x360 with 1 Axes>"
            ]
          },
          "metadata": {
            "tags": [],
            "needs_background": "light"
          }
        }
      ]
    },
    {
      "cell_type": "markdown",
      "metadata": {
        "id": "TBUm0tAsKrls"
      },
      "source": [
        "### Verificando a quantidade de votos obtidos, por ideologia do partido e gênero"
      ]
    },
    {
      "cell_type": "code",
      "metadata": {
        "id": "7gU7-DsLKrlu",
        "outputId": "3ec32a82-dc78-4f97-8182-0416fe566ba3"
      },
      "source": [
        "sns.violinplot(x=\"Posicionamento Politico\", y=\"Votos\", data=cam,hue='Genero',split=True,palette='Set1')"
      ],
      "execution_count": null,
      "outputs": [
        {
          "output_type": "execute_result",
          "data": {
            "text/plain": [
              "<AxesSubplot:xlabel='Posicionamento Politico', ylabel='Votos'>"
            ]
          },
          "metadata": {
            "tags": []
          },
          "execution_count": 13
        },
        {
          "output_type": "display_data",
          "data": {
            "image/png": "[encoded data removed]",
            "text/plain": [
              "<Figure size 432x288 with 1 Axes>"
            ]
          },
          "metadata": {
            "tags": [],
            "needs_background": "light"
          }
        }
      ]
    },
    {
      "cell_type": "code",
      "metadata": {
        "id": "3mmzWHL_Krlv"
      },
      "source": [
        ""
      ],
      "execution_count": null,
      "outputs": []
    }
  ]
}